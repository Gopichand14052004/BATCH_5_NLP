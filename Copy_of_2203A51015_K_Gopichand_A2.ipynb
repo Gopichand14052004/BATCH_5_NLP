{
  "nbformat": 4,
  "nbformat_minor": 0,
  "metadata": {
    "colab": {
      "provenance": [],
      "include_colab_link": true
    },
    "kernelspec": {
      "name": "python3",
      "display_name": "Python 3"
    },
    "language_info": {
      "name": "python"
    }
  },
  "cells": [
    {
      "cell_type": "markdown",
      "metadata": {
        "id": "view-in-github",
        "colab_type": "text"
      },
      "source": [
        "<a href=\"https://colab.research.google.com/github/Gopichand14052004/BATCH_5_NLP/blob/main/Copy_of_2203A51015_K_Gopichand_A2.ipynb\" target=\"_parent\"><img src=\"https://colab.research.google.com/assets/colab-badge.svg\" alt=\"Open In Colab\"/></a>"
      ]
    },
    {
      "cell_type": "code",
      "source": [
        "import nltk\n",
        "from nltk.tokenize import word_tokenize, sent_tokenize\n",
        "nltk.download('punkt')\n",
        "text = \"Hello there! How are you doing today? NLP is fascinating.\"\n",
        "sentences = sent_tokenize(text)\n",
        "words = word_tokenize(text)\n",
        "print(\"Sentence Tokenization:\", sentences)\n",
        "print(\"Word Tokenization:\", words)\n"
      ],
      "metadata": {
        "colab": {
          "base_uri": "https://localhost:8080/"
        },
        "id": "p8C5fZm125nQ",
        "outputId": "a0d0dde5-45e1-4c76-fc87-ee8a86c27192"
      },
      "execution_count": null,
      "outputs": [
        {
          "output_type": "stream",
          "name": "stdout",
          "text": [
            "Sentence Tokenization: ['Hello there!', 'How are you doing today?', 'NLP is fascinating.']\n",
            "Word Tokenization: ['Hello', 'there', '!', 'How', 'are', 'you', 'doing', 'today', '?', 'NLP', 'is', 'fascinating', '.']\n"
          ]
        },
        {
          "output_type": "stream",
          "name": "stderr",
          "text": [
            "[nltk_data] Downloading package punkt to /root/nltk_data...\n",
            "[nltk_data]   Package punkt is already up-to-date!\n"
          ]
        }
      ]
    },
    {
      "cell_type": "code",
      "source": [
        "from nltk.stem import PorterStemmer\n",
        "words = [\"running\", \"ran\", \"runs\", \"easily\", \"fairly\"]\n",
        "stemmer = PorterStemmer()\n",
        "stemmed_words = [stemmer.stem(word) for word in words]\n",
        "print(\"Stemmed Words:\", stemmed_words)\n"
      ],
      "metadata": {
        "colab": {
          "base_uri": "https://localhost:8080/"
        },
        "id": "uGhEJw9g27vl",
        "outputId": "20381561-f611-4acd-a230-bbcb445b37d0"
      },
      "execution_count": null,
      "outputs": [
        {
          "output_type": "stream",
          "name": "stdout",
          "text": [
            "Stemmed Words: ['run', 'ran', 'run', 'easili', 'fairli']\n"
          ]
        }
      ]
    },
    {
      "cell_type": "code",
      "source": [
        "from sklearn.feature_extraction.text import CountVectorizer\n",
        "sentences = [\"NLP is fun and interesting.\", \"NLP involves linguistics and computer science.\"]\n",
        "vectorizer = CountVectorizer()\n",
        "word_embedding = vectorizer.fit_transform(sentences)\n",
        "print(\"Word Embedding:\\n\", word_embedding.toarray())\n",
        "print(\"Feature Names:\\n\", vectorizer.get_feature_names_out())\n"
      ],
      "metadata": {
        "colab": {
          "base_uri": "https://localhost:8080/"
        },
        "id": "nFRgVGmO3CyM",
        "outputId": "1b80e58a-a878-4c37-f797-468a29c99e21"
      },
      "execution_count": null,
      "outputs": [
        {
          "output_type": "stream",
          "name": "stdout",
          "text": [
            "Word Embedding:\n",
            " [[1 0 1 1 0 1 0 1 0]\n",
            " [1 1 0 0 1 0 1 1 1]]\n",
            "Feature Names:\n",
            " ['and' 'computer' 'fun' 'interesting' 'involves' 'is' 'linguistics' 'nlp'\n",
            " 'science']\n"
          ]
        }
      ]
    },
    {
      "cell_type": "code",
      "source": [
        "\n",
        "sentences = [\"NLP is an interesting field.\", \"It involves processing natural language.\"]\n",
        "vectorizer = CountVectorizer()\n",
        "sentence_embedding = vectorizer.fit_transform(sentences)\n",
        "print(\"Sentence Embedding:\\n\", sentence_embedding.toarray())\n",
        "print(\"Feature Names:\\n\", vectorizer.get_feature_names_out())\n"
      ],
      "metadata": {
        "colab": {
          "base_uri": "https://localhost:8080/"
        },
        "id": "AjbAdWmY3Oa-",
        "outputId": "e28546a6-32e0-40f8-ddb9-223633e351d5"
      },
      "execution_count": null,
      "outputs": [
        {
          "output_type": "stream",
          "name": "stdout",
          "text": [
            "Sentence Embedding:\n",
            " [[1 1 1 0 1 0 0 0 1 0]\n",
            " [0 0 0 1 0 1 1 1 0 1]]\n",
            "Feature Names:\n",
            " ['an' 'field' 'interesting' 'involves' 'is' 'it' 'language' 'natural'\n",
            " 'nlp' 'processing']\n"
          ]
        }
      ]
    }
  ]
}